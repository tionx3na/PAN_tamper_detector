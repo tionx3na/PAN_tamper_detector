{
 "cells": [
  {
   "cell_type": "code",
   "execution_count": null,
   "metadata": {},
   "outputs": [],
   "source": [
    "# Pan Card Tampering Detection.\n",
    "\n",
    "\"\"\" \n",
    "Algorithm for detector\n",
    "-----------------------\n",
    "\n",
    "1. Get image from the user\n",
    "2. Check the size and format of the images\n",
    "3. change the shape and size of the image according to the original image\n",
    "4. convert the image to grayscale\n",
    "5. find the similarity index of the images\n",
    "6. fins the threshold of the image\n",
    "7. find the contours and grab the contours using IMUTILS\n",
    "8. draw a bounding rectangle using the contours\n",
    "9. plot the difference, threshold, original image and the tampered image\n",
    "10. compare all the images and check the similarity score to decide if the image is tampered or not\n",
    "\n",
    "\"\"\"\n"
   ]
  },
  {
   "cell_type": "code",
   "execution_count": null,
   "metadata": {},
   "outputs": [],
   "source": []
  }
 ],
 "metadata": {
  "language_info": {
   "name": "python"
  },
  "orig_nbformat": 4
 },
 "nbformat": 4,
 "nbformat_minor": 2
}
